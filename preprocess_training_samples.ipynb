{
 "cells": [
  {
   "cell_type": "markdown",
   "metadata": {},
   "source": [
    "# Create samples from the training data\n",
    "\n",
    "The goal of this notebook is to make samples out of the training data provided by the organizers"
   ]
  },
  {
   "cell_type": "code",
   "execution_count": 227,
   "metadata": {},
   "outputs": [],
   "source": [
    "import os, sys\n",
    "import pandas as pd\n",
    "import numpy as np\n",
    "from util import *"
   ]
  },
  {
   "cell_type": "code",
   "execution_count": 228,
   "metadata": {},
   "outputs": [
    {
     "name": "stdout",
     "output_type": "stream",
     "text": [
      "      object_id          ra       decl       gal_l      gal_b  ddf  \\\n7843  130739978   26.718750 -14.940303  172.342697 -72.255675    0   \n7844  130755807  120.101349 -62.696659  275.742955 -16.509746    0   \n7845  130762946  203.108109 -55.682144  308.728904   6.727511    0   \n7846  130772921   79.101562 -35.501846  239.172243 -33.827844    0   \n7847  130779836  301.992188 -17.426323   25.102988 -24.511101    0   \n\n      hostgal_specz  hostgal_photoz  hostgal_photoz_err  distmod  mwebv  \\\n7843         0.0000          0.0000              0.0000      NaN  0.013   \n7844         0.1725          2.5606              1.1146  46.6108  0.136   \n7845         0.0000          0.0000              0.0000      NaN  0.430   \n7846         0.0000          0.0000              0.0000      NaN  0.034   \n7847         0.0000          0.0000              0.0000      NaN  0.091   \n\n      target  \n7843      65  \n7844      90  \n7845      16  \n7846      65  \n7847       6  \n"
     ]
    }
   ],
   "source": [
    "# load the data\n",
    "datapath = \"data/training_set.csv\"\n",
    "metadata = \"data/training_set_metadata.csv\"\n",
    "\n",
    "df = pd.read_csv(datapath)\n",
    "dfm = pd.read_csv(metadata)\n",
    "\n",
    "print dfm.tail()"
   ]
  },
  {
   "cell_type": "code",
   "execution_count": 240,
   "metadata": {},
   "outputs": [
    {
     "name": "stdout",
     "output_type": "stream",
     "text": [
      "                             0\nobject_id           615.000000\nra                  349.046051\ndecl                -61.943836\ngal_l               320.796530\ngal_b               -51.753706\nddf                   1.000000\nhostgal_specz         0.000000\nhostgal_photoz        0.000000\nhostgal_photoz_err    0.000000\ndistmod                    NaN\nmwebv                 0.017000\ntarget               92.000000\n\n\n\n                      0\nobject_id    615.000000\nmjd        59750.422900\npassband       2.000000\nflux        -544.810303\nflux_err       3.622952\ndetected       1.000000\n"
     ]
    }
   ],
   "source": [
    "indexes = np.unique(df[\"object_id\"])\n",
    "bands = np.unique(df[\"passband\"])\n",
    "\n",
    "# in case we want to map back go the real filters\n",
    "bands_mapping = {0: \"u\", 1: \"g\", 2: \"r\", 3: \"i\", 4: \"z\", 5: \"y\"}\n",
    "# df[\"passband\"].map(bands_mapping)\n",
    "\n",
    "\n",
    "print dfm.head(1).T\n",
    "print \"\\n\\n\"\n",
    "print df.head(1).T\n"
   ]
  },
  {
   "cell_type": "code",
   "execution_count": 230,
   "metadata": {
    "collapsed": false
   },
   "outputs": [
    {
     "name": "stdout",
     "output_type": "stream",
     "text": [
      "Wrote training_samples.pkl\n"
     ]
    }
   ],
   "source": [
    "from tqdm import tqdm  # fancy progress prints\n",
    "\n",
    "series_list = []\n",
    "for i in tqdm(range(len(dfm))):\n",
    "\tdfitem = dfm.iloc[i]\n",
    "\tobject_id = dfitem[\"object_id\"]\n",
    "\t\n",
    "\t# pandas' not very concilient with appending data to a Series or dataframe \n",
    "\t# (or I'm not good with the doc) \n",
    "\t# --> I build a dictionnary that I re-translate in a Series later\n",
    "\tsample = dfitem.to_dict()\n",
    "\n",
    "\t# build light curves, looking at the row of df\n",
    "\t# that have the correct passband and id\n",
    "\t# it would probably be faster to loop on df lines than looking for the good ones at each step...to keep in mind when working with the test set\n",
    "\tfor b in bands:\n",
    "\t\tsample[\"mjds_%s\" % b] = df[\"mjd\"][df[\"passband\"] == b][df[\"object_id\"] == object_id].values\n",
    "\t\tsample[\"fluxes_%s\" % b] = df[\"flux\"][df[\"passband\"] == b][df[\"object_id\"] == object_id].values\n",
    "\t\tsample[\"fluxerrs_%s\" % b] = df[\"flux_err\"][df[\"passband\"] == b][df[\"object_id\"] == object_id].values\n",
    "\t\tsample[\"detected_%s\" % b] = df[\"detected\"][df[\"passband\"] == b][df[\"object_id\"] == object_id].values\n",
    "\t\n",
    "\t# create a Series with the dict and put that in a big list\n",
    "\tseries_list.append(pd.Series(sample))\n",
    "\t\n",
    "# create a dataframe out of the list\t\n",
    "samples = pd.concat(series_list, axis=1).T\n",
    "\n",
    "# convert what needs to be integer as integer\n",
    "# ooh look Im pandas Im so fucking smart I save everything in float lolilol\n",
    "samples[[\"object_id\", \"target\"]] = samples[[\"object_id\", \"target\"]].astype(int)\n",
    "\n"
   ]
  },
  {
   "cell_type": "code",
   "execution_count": 231,
   "metadata": {
    "collapsed": true
   },
   "outputs": [
    {
     "name": "stdout",
     "output_type": "stream",
     "text": [
      "Wrote training_samples.pkl\n"
     ]
    }
   ],
   "source": [
    "# pickle the results for later use\n",
    "writepickle(samples, \"training_samples.pkl\")"
   ]
  },
  {
   "cell_type": "code",
   "execution_count": 243,
   "metadata": {
    "collapsed": false
   },
   "outputs": [
    {
     "name": "stdout",
     "output_type": "stream",
     "text": [
      "Read training_samples.pkl\n"
     ]
    },
    {
     "data": {
      "text/plain": [
       "ddf                                                                   1\ndecl                                                           -46.7685\ndetected_0            [0, 0, 0, 0, 0, 0, 0, 0, 0, 0, 0, 0, 0, 0, 0, ...\ndetected_1            [0, 0, 0, 0, 0, 0, 0, 0, 0, 0, 0, 0, 0, 0, 0, ...\ndetected_2            [0, 0, 0, 0, 0, 0, 0, 0, 0, 0, 0, 0, 0, 0, 0, ...\ndetected_3            [0, 0, 0, 0, 0, 0, 0, 0, 0, 0, 0, 0, 0, 0, 0, ...\ndetected_4            [0, 0, 0, 0, 0, 0, 0, 0, 0, 0, 0, 0, 0, 0, 0, ...\ndetected_5            [0, 0, 0, 0, 0, 0, 0, 0, 0, 0, 0, 0, 0, 0, 0, ...\ndistmod                                                         41.6466\nfluxerrs_0            [1.688356, 1.931612, 1.795236, 2.735116, 2.843...\nfluxerrs_1            [0.619115, 2.848189, 1.178133, 0.971095, 3.389...\nfluxerrs_2            [0.630288, 2.086514, 1.240831, 1.002995, 2.331...\nfluxerrs_3            [1.065594, 2.487419, 2.088372, 1.705569, 2.485...\nfluxerrs_4            [1.825245, 3.297901, 2.579784, 2.62245, 2.7354...\nfluxerrs_5            [4.650932, 8.625859, 6.366715, 5.32673, 6.1011...\nfluxes_0              [-1.953193, 0.837025, 4.317564, -2.939482, -3....\nfluxes_1              [0.235298, -1.862867, 0.284044, 0.283851, 5.84...\nfluxes_2              [-0.426455, -1.105403, -1.107069, 0.105837, -0...\nfluxes_3              [-0.414104, 0.49313, 5.05378, -2.672893, -1.00...\nfluxes_4              [0.122895, -1.899091, -0.024587, 0.495026, -1....\nfluxes_5              [-10.287995, 3.847546, 1.005579, 1.771414, -7....\ngal_b                                                           -68.498\ngal_l                                                            324.03\nhostgal_photoz                                                   0.3941\nhostgal_photoz_err                                               0.0095\nhostgal_specz                                                    0.3828\nmjds_0                [59818.2219, 59819.1176, 59820.1134, 59821.111...\nmjds_1                [59770.374, 59779.4075, 59782.245, 59797.3412,...\nmjds_2                [59770.3662, 59779.3999, 59782.2372, 59797.333...\nmjds_3                [59770.3817, 59779.4151, 59782.2527, 59797.348...\nmjds_4                [59770.3928, 59779.4261, 59782.2639, 59797.359...\nmjds_5                [59770.4039, 59779.437, 59782.2751, 59797.3708...\nmwebv                                                             0.014\nobject_id                                                        109516\nra                                                              1.75325\ntarget                                                               95\nName: 654, dtype: object"
      ]
     },
     "execution_count": 243,
     "metadata": {},
     "output_type": "execute_result"
    }
   ],
   "source": [
    "samples = readpickle(\"training_samples.pkl\")\n",
    "samples.iloc[654]"
   ]
  },
  {
   "cell_type": "code",
   "execution_count": null,
   "metadata": {},
   "outputs": [],
   "source": []
  }
 ],
 "metadata": {},
 "nbformat": 4,
 "nbformat_minor": 0
}
