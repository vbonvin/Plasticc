{
 "cells": [
  {
   "cell_type": "code",
   "execution_count": 1,
   "metadata": {},
   "outputs": [],
   "source": [
    "from util import *\n",
    "import matplotlib.pyplot as plt"
   ]
  },
  {
   "cell_type": "code",
   "execution_count": 2,
   "metadata": {
    "collapsed": true
   },
   "outputs": [
    {
     "name": "stdout",
     "output_type": "stream",
     "text": [
      "Read training_samples.pkl\nEmpty DataFrame\nColumns: [ddf, decl, detected_0, detected_1, detected_2, detected_3, detected_4, detected_5, distmod, fluxerrs_0, fluxerrs_1, fluxerrs_2, fluxerrs_3, fluxerrs_4, fluxerrs_5, fluxes_0, fluxes_1, fluxes_2, fluxes_3, fluxes_4, fluxes_5, gal_b, gal_l, hostgal_photoz, hostgal_photoz_err, hostgal_specz, mjds_0, mjds_1, mjds_2, mjds_3, mjds_4, mjds_5, mwebv, object_id, ra, target]\nIndex: []\n\n[0 rows x 36 columns]\n"
     ]
    }
   ],
   "source": [
    "# We load the already preprocessed data\n",
    "samples = readpickle(\"training_samples.pkl\")\n",
    "\n",
    "print samples.head(0)"
   ]
  },
  {
   "cell_type": "code",
   "execution_count": 4,
   "metadata": {
    "collapsed": true
   },
   "outputs": [
    {
     "ename": "ValueError",
     "evalue": "The truth value of an array with more than one element is ambiguous. Use a.any() or a.all()",
     "traceback": [
      "\u001b[0;31m\u001b[0m",
      "\u001b[0;31mValueError\u001b[0mTraceback (most recent call last)",
      "\u001b[0;32m<ipython-input-4-3ef51e4a0b47>\u001b[0m in \u001b[0;36m<module>\u001b[0;34m()\u001b[0m\n\u001b[1;32m      6\u001b[0m \u001b[0;34m\u001b[0m\u001b[0m\n\u001b[1;32m      7\u001b[0m \u001b[0;31m# epurated version of it\u001b[0m\u001b[0;34m\u001b[0m\u001b[0;34m\u001b[0m\u001b[0m\n\u001b[0;32m----> 8\u001b[0;31m \u001b[0mepurated_sample\u001b[0m \u001b[0;34m=\u001b[0m \u001b[0mepurate_sample\u001b[0m\u001b[0;34m(\u001b[0m\u001b[0msample\u001b[0m\u001b[0;34m,\u001b[0m \u001b[0mep_percent\u001b[0m\u001b[0;34m=\u001b[0m\u001b[0;36m10\u001b[0m\u001b[0;34m)\u001b[0m\u001b[0;34m\u001b[0m\u001b[0m\n\u001b[0m\u001b[1;32m      9\u001b[0m \u001b[0;34m\u001b[0m\u001b[0m\n\u001b[1;32m     10\u001b[0m \u001b[0;31m# display the results\u001b[0m\u001b[0;34m\u001b[0m\u001b[0;34m\u001b[0m\u001b[0m\n",
      "\u001b[0;32m/home/vivien/work/Plasticc/util.py\u001b[0m in \u001b[0;36mepurate_sample\u001b[0;34m(sample, ep_percent)\u001b[0m\n\u001b[1;32m    114\u001b[0m                         \u001b[0mnewsample\u001b[0m\u001b[0;34m[\u001b[0m\u001b[0;34m\"fluxerrs_%i\"\u001b[0m \u001b[0;34m%\u001b[0m \u001b[0mband_index\u001b[0m\u001b[0;34m]\u001b[0m \u001b[0;34m=\u001b[0m \u001b[0mnewsample\u001b[0m\u001b[0;34m[\u001b[0m\u001b[0;34m\"fluxerrs_%i\"\u001b[0m \u001b[0;34m%\u001b[0m \u001b[0mband_index\u001b[0m\u001b[0;34m]\u001b[0m\u001b[0;34m[\u001b[0m\u001b[0mtokeep\u001b[0m\u001b[0;34m]\u001b[0m\u001b[0;34m\u001b[0m\u001b[0m\n\u001b[1;32m    115\u001b[0m \u001b[0;34m\u001b[0m\u001b[0m\n\u001b[0;32m--> 116\u001b[0;31m                         \u001b[0;32mif\u001b[0m \u001b[0mnp\u001b[0m\u001b[0;34m.\u001b[0m\u001b[0misnan\u001b[0m\u001b[0;34m(\u001b[0m\u001b[0mnewsample\u001b[0m\u001b[0;34m[\u001b[0m\u001b[0;34m\"mjds_%i\"\u001b[0m \u001b[0;34m%\u001b[0m \u001b[0mband_index\u001b[0m\u001b[0;34m]\u001b[0m\u001b[0;34m)\u001b[0m \u001b[0;32mor\u001b[0m \u001b[0mnp\u001b[0m\u001b[0;34m.\u001b[0m\u001b[0misnan\u001b[0m\u001b[0;34m(\u001b[0m\u001b[0mnewsample\u001b[0m\u001b[0;34m[\u001b[0m\u001b[0;34m\"fluxes_%i\"\u001b[0m \u001b[0;34m%\u001b[0m \u001b[0mband_index\u001b[0m\u001b[0;34m]\u001b[0m\u001b[0;34m)\u001b[0m \u001b[0;32mor\u001b[0m \u001b[0mnp\u001b[0m\u001b[0;34m.\u001b[0m\u001b[0misnan\u001b[0m\u001b[0;34m(\u001b[0m\u001b[0mnewsample\u001b[0m\u001b[0;34m[\u001b[0m\u001b[0;34m\"fluxerrs_%i\"\u001b[0m \u001b[0;34m%\u001b[0m \u001b[0mband_index\u001b[0m\u001b[0;34m]\u001b[0m\u001b[0;34m)\u001b[0m\u001b[0;34m:\u001b[0m\u001b[0;34m\u001b[0m\u001b[0m\n\u001b[0m\u001b[1;32m    117\u001b[0m                                 \u001b[0mkeeptrying\u001b[0m \u001b[0;34m=\u001b[0m \u001b[0mTrue\u001b[0m\u001b[0;34m\u001b[0m\u001b[0m\n\u001b[1;32m    118\u001b[0m                                 \u001b[0;32mbreak\u001b[0m\u001b[0;34m\u001b[0m\u001b[0m\n",
      "\u001b[0;31mValueError\u001b[0m: The truth value of an array with more than one element is ambiguous. Use a.any() or a.all()"
     ],
     "output_type": "error"
    }
   ],
   "source": [
    "# pick a sample from the original list\n",
    "sample = samples.iloc[0]\n",
    "\n",
    "# bootstrap version of it\n",
    "bootstrapped_sample = bootstrap_sample(sample)\n",
    "\n",
    "# epurated version of it\n",
    "epurated_sample = epurate_sample(sample, ep_percent=10)\n",
    "\n",
    "# display the results\n",
    "#display_sample(bootstrapped_sample)\n",
    "display_sample(epurated_sample)"
   ]
  },
  {
   "cell_type": "code",
   "execution_count": null,
   "metadata": {},
   "outputs": [],
   "source": []
  }
 ],
 "metadata": {},
 "nbformat": 4,
 "nbformat_minor": 0
}
